{
 "cells": [
  {
   "cell_type": "markdown",
   "metadata": {},
   "source": [
    "#### Proof of Concept for Project, First Notebook to Try out Librosa"
   ]
  },
  {
   "cell_type": "markdown",
   "metadata": {},
   "source": [
    "##### Goals:\n",
    "\n",
    "* Get All Genres from IMDB\n",
    "* Get All Genres from Rotten Tomatoes\n",
    "\n",
    "* Decide how to combine genres\n",
    "\n",
    "* Create pipeline to predict for two genres\n",
    "\n",
    "* Add more Genres\n",
    "\n",
    "\n",
    "#### Methodology\n",
    "\n",
    "* Extract features for each song on the soundtrack to the movie\n",
    "* \n",
    "\n",
    "#### Data Needs\n",
    "\n",
    "* Get features from data and figure out schema to store the data\n",
    "\n",
    "\n",
    "#### Webapp Work\n",
    "\n",
    "* Set up server\n",
    "* Connect server to Database (mlab)\n",
    "* Be able to upload songs and predict theme for movie\n",
    "\n",
    "\n",
    "####\n"
   ]
  },
  {
   "cell_type": "markdown",
   "metadata": {
    "collapsed": true
   },
   "source": [
    "## Genres\n",
    "\n",
    "### IMDB\n",
    "* Action\n",
    "* Adventure\n",
    "* Animation\n",
    "* Biography\n",
    "* Comedy\n",
    "* Crime\n",
    "* Documentary\n",
    "* Drama\n",
    "* Family\n",
    "* Fantasy\n",
    "* Film-Noir\n",
    "* History\n",
    "* Horror\n",
    "* Music\n",
    "* Musical\n",
    "* Mystery\n",
    "* Romance\n",
    "* Sci-Fi\n",
    "* Sport\n",
    "* Thriller\n",
    "* War\n",
    "* Western\n",
    "\n",
    "### Rotten Tomatoes\n",
    "* Action & Adventure\n",
    "* Animation\n",
    "* Art House & International\n",
    "* Classics\n",
    "* Comedy\n",
    "* Documentary\n",
    "* Drama\n",
    "* Horror\n",
    "* Kids & Family\n",
    "* Musical & Performing Arts\n",
    "* Mystery & Suspense\n",
    "* Romance\n",
    "* Science Fiction & Fantasy\n",
    "* Special Interest\n",
    "* Sports & Fitness\n",
    "* Television\n",
    "* Western\n"
   ]
  },
  {
   "cell_type": "code",
   "execution_count": null,
   "metadata": {
    "collapsed": true
   },
   "outputs": [],
   "source": []
  }
 ],
 "metadata": {
  "kernelspec": {
   "display_name": "Python [conda root]",
   "language": "python",
   "name": "conda-root-py"
  },
  "language_info": {
   "codemirror_mode": {
    "name": "ipython",
    "version": 2
   },
   "file_extension": ".py",
   "mimetype": "text/x-python",
   "name": "python",
   "nbconvert_exporter": "python",
   "pygments_lexer": "ipython2",
   "version": "2.7.13"
  }
 },
 "nbformat": 4,
 "nbformat_minor": 2
}
